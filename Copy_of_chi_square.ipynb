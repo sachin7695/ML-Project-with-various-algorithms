{
 "cells": [
  {
   "cell_type": "code",
   "execution_count": null,
   "metadata": {
    "id": "Ysvs03g-53Xr"
   },
   "outputs": [],
   "source": [
    "# importing required libraries\n",
    "import numpy as np\n",
    "import matplotlib.pyplot as plt\n",
    "import pandas as pd"
   ]
  },
  {
   "cell_type": "code",
   "execution_count": null,
   "metadata": {
    "id": "lhrRH9wzPrpZ"
   },
   "outputs": [],
   "source": [
    "# importing dataset\n",
    "dataset = pd.read_csv(\"/content/train.csv\")"
   ]
  },
  {
   "cell_type": "code",
   "execution_count": null,
   "metadata": {
    "colab": {
     "base_uri": "https://localhost:8080/",
     "height": 203
    },
    "id": "lsV2XM8yPr1C",
    "outputId": "02068344-e5ea-485d-f6f6-70d0385346f5"
   },
   "outputs": [
    {
     "data": {
      "text/html": [
       "\n",
       "  <div id=\"df-0ea26541-3961-4cef-8611-63dae7a0a7f8\">\n",
       "    <div class=\"colab-df-container\">\n",
       "      <div>\n",
       "<style scoped>\n",
       "    .dataframe tbody tr th:only-of-type {\n",
       "        vertical-align: middle;\n",
       "    }\n",
       "\n",
       "    .dataframe tbody tr th {\n",
       "        vertical-align: top;\n",
       "    }\n",
       "\n",
       "    .dataframe thead th {\n",
       "        text-align: right;\n",
       "    }\n",
       "</style>\n",
       "<table border=\"1\" class=\"dataframe\">\n",
       "  <thead>\n",
       "    <tr style=\"text-align: right;\">\n",
       "      <th></th>\n",
       "      <th>Unnamed: 0</th>\n",
       "      <th>type</th>\n",
       "      <th>time</th>\n",
       "      <th>dayofweek</th>\n",
       "      <th>models</th>\n",
       "      <th>params</th>\n",
       "      <th>queuelen</th>\n",
       "      <th>trials</th>\n",
       "      <th>duration</th>\n",
       "    </tr>\n",
       "  </thead>\n",
       "  <tbody>\n",
       "    <tr>\n",
       "      <th>0</th>\n",
       "      <td>1178</td>\n",
       "      <td>9.0</td>\n",
       "      <td>0.413889</td>\n",
       "      <td>3.0</td>\n",
       "      <td>21.0</td>\n",
       "      <td>535.0</td>\n",
       "      <td>0.0</td>\n",
       "      <td>40.0</td>\n",
       "      <td>0.0</td>\n",
       "    </tr>\n",
       "    <tr>\n",
       "      <th>1</th>\n",
       "      <td>877</td>\n",
       "      <td>9.0</td>\n",
       "      <td>0.643056</td>\n",
       "      <td>5.0</td>\n",
       "      <td>9.0</td>\n",
       "      <td>2682.0</td>\n",
       "      <td>0.0</td>\n",
       "      <td>40.0</td>\n",
       "      <td>0.0</td>\n",
       "    </tr>\n",
       "    <tr>\n",
       "      <th>2</th>\n",
       "      <td>4233</td>\n",
       "      <td>13.0</td>\n",
       "      <td>0.607639</td>\n",
       "      <td>4.0</td>\n",
       "      <td>32.0</td>\n",
       "      <td>3305.0</td>\n",
       "      <td>0.0</td>\n",
       "      <td>40.0</td>\n",
       "      <td>0.0</td>\n",
       "    </tr>\n",
       "    <tr>\n",
       "      <th>3</th>\n",
       "      <td>4134</td>\n",
       "      <td>8.0</td>\n",
       "      <td>0.643750</td>\n",
       "      <td>4.0</td>\n",
       "      <td>3.0</td>\n",
       "      <td>22023.0</td>\n",
       "      <td>0.0</td>\n",
       "      <td>40.0</td>\n",
       "      <td>0.0</td>\n",
       "    </tr>\n",
       "    <tr>\n",
       "      <th>4</th>\n",
       "      <td>3598</td>\n",
       "      <td>12.0</td>\n",
       "      <td>0.519444</td>\n",
       "      <td>3.0</td>\n",
       "      <td>8.0</td>\n",
       "      <td>3707.0</td>\n",
       "      <td>0.0</td>\n",
       "      <td>40.0</td>\n",
       "      <td>0.0</td>\n",
       "    </tr>\n",
       "  </tbody>\n",
       "</table>\n",
       "</div>\n",
       "      <button class=\"colab-df-convert\" onclick=\"convertToInteractive('df-0ea26541-3961-4cef-8611-63dae7a0a7f8')\"\n",
       "              title=\"Convert this dataframe to an interactive table.\"\n",
       "              style=\"display:none;\">\n",
       "        \n",
       "  <svg xmlns=\"http://www.w3.org/2000/svg\" height=\"24px\"viewBox=\"0 0 24 24\"\n",
       "       width=\"24px\">\n",
       "    <path d=\"M0 0h24v24H0V0z\" fill=\"none\"/>\n",
       "    <path d=\"M18.56 5.44l.94 2.06.94-2.06 2.06-.94-2.06-.94-.94-2.06-.94 2.06-2.06.94zm-11 1L8.5 8.5l.94-2.06 2.06-.94-2.06-.94L8.5 2.5l-.94 2.06-2.06.94zm10 10l.94 2.06.94-2.06 2.06-.94-2.06-.94-.94-2.06-.94 2.06-2.06.94z\"/><path d=\"M17.41 7.96l-1.37-1.37c-.4-.4-.92-.59-1.43-.59-.52 0-1.04.2-1.43.59L10.3 9.45l-7.72 7.72c-.78.78-.78 2.05 0 2.83L4 21.41c.39.39.9.59 1.41.59.51 0 1.02-.2 1.41-.59l7.78-7.78 2.81-2.81c.8-.78.8-2.07 0-2.86zM5.41 20L4 18.59l7.72-7.72 1.47 1.35L5.41 20z\"/>\n",
       "  </svg>\n",
       "      </button>\n",
       "      \n",
       "  <style>\n",
       "    .colab-df-container {\n",
       "      display:flex;\n",
       "      flex-wrap:wrap;\n",
       "      gap: 12px;\n",
       "    }\n",
       "\n",
       "    .colab-df-convert {\n",
       "      background-color: #E8F0FE;\n",
       "      border: none;\n",
       "      border-radius: 50%;\n",
       "      cursor: pointer;\n",
       "      display: none;\n",
       "      fill: #1967D2;\n",
       "      height: 32px;\n",
       "      padding: 0 0 0 0;\n",
       "      width: 32px;\n",
       "    }\n",
       "\n",
       "    .colab-df-convert:hover {\n",
       "      background-color: #E2EBFA;\n",
       "      box-shadow: 0px 1px 2px rgba(60, 64, 67, 0.3), 0px 1px 3px 1px rgba(60, 64, 67, 0.15);\n",
       "      fill: #174EA6;\n",
       "    }\n",
       "\n",
       "    [theme=dark] .colab-df-convert {\n",
       "      background-color: #3B4455;\n",
       "      fill: #D2E3FC;\n",
       "    }\n",
       "\n",
       "    [theme=dark] .colab-df-convert:hover {\n",
       "      background-color: #434B5C;\n",
       "      box-shadow: 0px 1px 3px 1px rgba(0, 0, 0, 0.15);\n",
       "      filter: drop-shadow(0px 1px 2px rgba(0, 0, 0, 0.3));\n",
       "      fill: #FFFFFF;\n",
       "    }\n",
       "  </style>\n",
       "\n",
       "      <script>\n",
       "        const buttonEl =\n",
       "          document.querySelector('#df-0ea26541-3961-4cef-8611-63dae7a0a7f8 button.colab-df-convert');\n",
       "        buttonEl.style.display =\n",
       "          google.colab.kernel.accessAllowed ? 'block' : 'none';\n",
       "\n",
       "        async function convertToInteractive(key) {\n",
       "          const element = document.querySelector('#df-0ea26541-3961-4cef-8611-63dae7a0a7f8');\n",
       "          const dataTable =\n",
       "            await google.colab.kernel.invokeFunction('convertToInteractive',\n",
       "                                                     [key], {});\n",
       "          if (!dataTable) return;\n",
       "\n",
       "          const docLinkHtml = 'Like what you see? Visit the ' +\n",
       "            '<a target=\"_blank\" href=https://colab.research.google.com/notebooks/data_table.ipynb>data table notebook</a>'\n",
       "            + ' to learn more about interactive tables.';\n",
       "          element.innerHTML = '';\n",
       "          dataTable['output_type'] = 'display_data';\n",
       "          await google.colab.output.renderOutput(dataTable, element);\n",
       "          const docLink = document.createElement('div');\n",
       "          docLink.innerHTML = docLinkHtml;\n",
       "          element.appendChild(docLink);\n",
       "        }\n",
       "      </script>\n",
       "    </div>\n",
       "  </div>\n",
       "  "
      ],
      "text/plain": [
       "   Unnamed: 0  type      time  dayofweek  ...   params  queuelen  trials  duration\n",
       "0        1178   9.0  0.413889        3.0  ...    535.0       0.0    40.0       0.0\n",
       "1         877   9.0  0.643056        5.0  ...   2682.0       0.0    40.0       0.0\n",
       "2        4233  13.0  0.607639        4.0  ...   3305.0       0.0    40.0       0.0\n",
       "3        4134   8.0  0.643750        4.0  ...  22023.0       0.0    40.0       0.0\n",
       "4        3598  12.0  0.519444        3.0  ...   3707.0       0.0    40.0       0.0\n",
       "\n",
       "[5 rows x 9 columns]"
      ]
     },
     "execution_count": 24,
     "metadata": {},
     "output_type": "execute_result"
    }
   ],
   "source": [
    "dataset.head()"
   ]
  },
  {
   "cell_type": "code",
   "execution_count": null,
   "metadata": {
    "colab": {
     "base_uri": "https://localhost:8080/",
     "height": 1000
    },
    "id": "WDFH4qGyPr4H",
    "outputId": "0f903ce0-6359-41eb-eab6-688dbcbc934e"
   },
   "outputs": [
    {
     "data": {
      "image/png": "[encoded data removed]",
      "text/plain": [
       "<Figure size 1440x1440 with 2 Axes>"
      ]
     },
     "metadata": {
      "needs_background": "light"
     },
     "output_type": "display_data"
    }
   ],
   "source": [
    "## Correlation\n",
    "import seaborn as sns\n",
    "import matplotlib.pyplot as plt\n",
    "#get correlations of each features in dataset\n",
    "corrmat = dataset.corr()\n",
    "top_corr_features = corrmat.index\n",
    "plt.figure(figsize=(20,20))\n",
    "#plot heat map\n",
    "g=sns.heatmap(dataset[top_corr_features].corr(),annot=True,cmap=\"RdYlGn\")"
   ]
  },
  {
   "cell_type": "code",
   "execution_count": null,
   "metadata": {
    "colab": {
     "base_uri": "https://localhost:8080/"
    },
    "id": "6_aHZf4uPr7K",
    "outputId": "acb7b8e0-5d93-48dc-ac6c-b7e4ca64f295"
   },
   "outputs": [
    {
     "data": {
      "text/plain": [
       "Index(['Unnamed: 0', 'type', 'time', 'dayofweek', 'models', 'params',\n",
       "       'queuelen', 'trials', 'duration'],\n",
       "      dtype='object')"
      ]
     },
     "execution_count": 26,
     "metadata": {},
     "output_type": "execute_result"
    }
   ],
   "source": [
    "dataset.columns"
   ]
  },
  {
   "cell_type": "code",
   "execution_count": null,
   "metadata": {
    "id": "XbDCbDVFPr-H"
   },
   "outputs": [],
   "source": [
    "# looking at the dataset we can drop the first column as it is not dependent on our model\n",
    "dataset = dataset.drop(\"Unnamed: 0\", axis=1)"
   ]
  },
  {
   "cell_type": "code",
   "execution_count": null,
   "metadata": {
    "colab": {
     "base_uri": "https://localhost:8080/"
    },
    "id": "r_FwwDJ5PsAk",
    "outputId": "d6c31978-e721-4e95-f879-4fd3e12c82fb"
   },
   "outputs": [
    {
     "data": {
      "text/plain": [
       "Index(['type', 'time', 'dayofweek', 'models', 'params', 'queuelen', 'trials',\n",
       "       'duration'],\n",
       "      dtype='object')"
      ]
     },
     "execution_count": 28,
     "metadata": {},
     "output_type": "execute_result"
    }
   ],
   "source": [
    "dataset.columns"
   ]
  },
  {
   "cell_type": "code",
   "execution_count": null,
   "metadata": {
    "id": "FR-QioGtPsDt"
   },
   "outputs": [],
   "source": [
    "# importing the test dataset \n",
    "dataset_test = pd.read_csv(\"/content/test.csv\")"
   ]
  },
  {
   "cell_type": "code",
   "execution_count": null,
   "metadata": {
    "id": "N2Do8do8Q_iT"
   },
   "outputs": [],
   "source": [
    "test_id = dataset_test[\"Unnamed: 0\" ]"
   ]
  },
  {
   "cell_type": "code",
   "execution_count": null,
   "metadata": {
    "id": "iInz4NxyQ_nC"
   },
   "outputs": [],
   "source": [
    "dataset_test.drop(columns=[\"Unnamed: 0\"], axis=1, inplace=True)\n"
   ]
  },
  {
   "cell_type": "code",
   "execution_count": null,
   "metadata": {
    "colab": {
     "base_uri": "https://localhost:8080/",
     "height": 514
    },
    "id": "VWHVhv5bQ_rO",
    "outputId": "020d722a-03f5-4333-bb4c-0ebbe635a05f"
   },
   "outputs": [
    {
     "data": {
      "image/png": "[encoded data removed]",
      "text/plain": [
       "<Figure size 1008x720 with 8 Axes>"
      ]
     },
     "metadata": {
      "needs_background": "light"
     },
     "output_type": "display_data"
    }
   ],
   "source": [
    "# plotting the figure for checking the dependence of different features on duration\n",
    "plt.figure(figsize = (14, 10))\n",
    "plotnumber = 1\n",
    "\n",
    "for column in dataset:\n",
    "    if plotnumber <= 14:\n",
    "        ax = plt.subplot(3, 5, plotnumber)\n",
    "        sns.scatterplot(x = dataset['duration'], y = dataset[column])\n",
    "\n",
    "    plotnumber += 1\n",
    "\n",
    "plt.tight_layout()\n",
    "plt.show()"
   ]
  },
  {
   "cell_type": "code",
   "execution_count": null,
   "metadata": {
    "id": "CRObXGd_Q_tx"
   },
   "outputs": [],
   "source": [
    "# from the above plot I feel I should not drop any other feature"
   ]
  },
  {
   "cell_type": "code",
   "execution_count": null,
   "metadata": {
    "colab": {
     "base_uri": "https://localhost:8080/",
     "height": 295
    },
    "id": "yOFZplGIUUSG",
    "outputId": "fc5f85ca-ccc4-43a6-cb09-8bab68e28550"
   },
   "outputs": [
    {
     "data": {
      "text/html": [
       "\n",
       "  <div id=\"df-bda5a5e5-57e1-474c-853f-d98933917381\">\n",
       "    <div class=\"colab-df-container\">\n",
       "      <div>\n",
       "<style scoped>\n",
       "    .dataframe tbody tr th:only-of-type {\n",
       "        vertical-align: middle;\n",
       "    }\n",
       "\n",
       "    .dataframe tbody tr th {\n",
       "        vertical-align: top;\n",
       "    }\n",
       "\n",
       "    .dataframe thead th {\n",
       "        text-align: right;\n",
       "    }\n",
       "</style>\n",
       "<table border=\"1\" class=\"dataframe\">\n",
       "  <thead>\n",
       "    <tr style=\"text-align: right;\">\n",
       "      <th></th>\n",
       "      <th>type</th>\n",
       "      <th>time</th>\n",
       "      <th>dayofweek</th>\n",
       "      <th>models</th>\n",
       "      <th>params</th>\n",
       "      <th>queuelen</th>\n",
       "      <th>trials</th>\n",
       "      <th>duration</th>\n",
       "    </tr>\n",
       "  </thead>\n",
       "  <tbody>\n",
       "    <tr>\n",
       "      <th>count</th>\n",
       "      <td>3104.000000</td>\n",
       "      <td>3464.000000</td>\n",
       "      <td>3464.000000</td>\n",
       "      <td>3464.000000</td>\n",
       "      <td>3191.000000</td>\n",
       "      <td>3464.000000</td>\n",
       "      <td>3464.000000</td>\n",
       "      <td>3464.000000</td>\n",
       "    </tr>\n",
       "    <tr>\n",
       "      <th>mean</th>\n",
       "      <td>9.253222</td>\n",
       "      <td>0.571791</td>\n",
       "      <td>3.246536</td>\n",
       "      <td>82.018764</td>\n",
       "      <td>10834.270762</td>\n",
       "      <td>54.402425</td>\n",
       "      <td>58.599018</td>\n",
       "      <td>0.731236</td>\n",
       "    </tr>\n",
       "    <tr>\n",
       "      <th>std</th>\n",
       "      <td>3.642100</td>\n",
       "      <td>0.166895</td>\n",
       "      <td>1.571793</td>\n",
       "      <td>1901.719969</td>\n",
       "      <td>25712.079591</td>\n",
       "      <td>354.209141</td>\n",
       "      <td>68.524295</td>\n",
       "      <td>0.894489</td>\n",
       "    </tr>\n",
       "    <tr>\n",
       "      <th>min</th>\n",
       "      <td>0.000000</td>\n",
       "      <td>0.000694</td>\n",
       "      <td>1.000000</td>\n",
       "      <td>1.000000</td>\n",
       "      <td>71.000000</td>\n",
       "      <td>0.000000</td>\n",
       "      <td>5.000000</td>\n",
       "      <td>0.000000</td>\n",
       "    </tr>\n",
       "    <tr>\n",
       "      <th>25%</th>\n",
       "      <td>7.000000</td>\n",
       "      <td>0.455556</td>\n",
       "      <td>2.000000</td>\n",
       "      <td>5.000000</td>\n",
       "      <td>957.500000</td>\n",
       "      <td>0.000000</td>\n",
       "      <td>40.000000</td>\n",
       "      <td>0.000000</td>\n",
       "    </tr>\n",
       "    <tr>\n",
       "      <th>50%</th>\n",
       "      <td>9.000000</td>\n",
       "      <td>0.584375</td>\n",
       "      <td>3.000000</td>\n",
       "      <td>13.000000</td>\n",
       "      <td>3026.000000</td>\n",
       "      <td>0.000000</td>\n",
       "      <td>40.000000</td>\n",
       "      <td>0.000000</td>\n",
       "    </tr>\n",
       "    <tr>\n",
       "      <th>75%</th>\n",
       "      <td>13.000000</td>\n",
       "      <td>0.690972</td>\n",
       "      <td>5.000000</td>\n",
       "      <td>26.000000</td>\n",
       "      <td>6977.000000</td>\n",
       "      <td>0.000000</td>\n",
       "      <td>40.000000</td>\n",
       "      <td>1.000000</td>\n",
       "    </tr>\n",
       "    <tr>\n",
       "      <th>max</th>\n",
       "      <td>14.000000</td>\n",
       "      <td>0.991667</td>\n",
       "      <td>7.000000</td>\n",
       "      <td>87293.000000</td>\n",
       "      <td>396701.000000</td>\n",
       "      <td>5547.000000</td>\n",
       "      <td>400.000000</td>\n",
       "      <td>3.000000</td>\n",
       "    </tr>\n",
       "  </tbody>\n",
       "</table>\n",
       "</div>\n",
       "      <button class=\"colab-df-convert\" onclick=\"convertToInteractive('df-bda5a5e5-57e1-474c-853f-d98933917381')\"\n",
       "              title=\"Convert this dataframe to an interactive table.\"\n",
       "              style=\"display:none;\">\n",
       "        \n",
       "  <svg xmlns=\"http://www.w3.org/2000/svg\" height=\"24px\"viewBox=\"0 0 24 24\"\n",
       "       width=\"24px\">\n",
       "    <path d=\"M0 0h24v24H0V0z\" fill=\"none\"/>\n",
       "    <path d=\"M18.56 5.44l.94 2.06.94-2.06 2.06-.94-2.06-.94-.94-2.06-.94 2.06-2.06.94zm-11 1L8.5 8.5l.94-2.06 2.06-.94-2.06-.94L8.5 2.5l-.94 2.06-2.06.94zm10 10l.94 2.06.94-2.06 2.06-.94-2.06-.94-.94-2.06-.94 2.06-2.06.94z\"/><path d=\"M17.41 7.96l-1.37-1.37c-.4-.4-.92-.59-1.43-.59-.52 0-1.04.2-1.43.59L10.3 9.45l-7.72 7.72c-.78.78-.78 2.05 0 2.83L4 21.41c.39.39.9.59 1.41.59.51 0 1.02-.2 1.41-.59l7.78-7.78 2.81-2.81c.8-.78.8-2.07 0-2.86zM5.41 20L4 18.59l7.72-7.72 1.47 1.35L5.41 20z\"/>\n",
       "  </svg>\n",
       "      </button>\n",
       "      \n",
       "  <style>\n",
       "    .colab-df-container {\n",
       "      display:flex;\n",
       "      flex-wrap:wrap;\n",
       "      gap: 12px;\n",
       "    }\n",
       "\n",
       "    .colab-df-convert {\n",
       "      background-color: #E8F0FE;\n",
       "      border: none;\n",
       "      border-radius: 50%;\n",
       "      cursor: pointer;\n",
       "      display: none;\n",
       "      fill: #1967D2;\n",
       "      height: 32px;\n",
       "      padding: 0 0 0 0;\n",
       "      width: 32px;\n",
       "    }\n",
       "\n",
       "    .colab-df-convert:hover {\n",
       "      background-color: #E2EBFA;\n",
       "      box-shadow: 0px 1px 2px rgba(60, 64, 67, 0.3), 0px 1px 3px 1px rgba(60, 64, 67, 0.15);\n",
       "      fill: #174EA6;\n",
       "    }\n",
       "\n",
       "    [theme=dark] .colab-df-convert {\n",
       "      background-color: #3B4455;\n",
       "      fill: #D2E3FC;\n",
       "    }\n",
       "\n",
       "    [theme=dark] .colab-df-convert:hover {\n",
       "      background-color: #434B5C;\n",
       "      box-shadow: 0px 1px 3px 1px rgba(0, 0, 0, 0.15);\n",
       "      filter: drop-shadow(0px 1px 2px rgba(0, 0, 0, 0.3));\n",
       "      fill: #FFFFFF;\n",
       "    }\n",
       "  </style>\n",
       "\n",
       "      <script>\n",
       "        const buttonEl =\n",
       "          document.querySelector('#df-bda5a5e5-57e1-474c-853f-d98933917381 button.colab-df-convert');\n",
       "        buttonEl.style.display =\n",
       "          google.colab.kernel.accessAllowed ? 'block' : 'none';\n",
       "\n",
       "        async function convertToInteractive(key) {\n",
       "          const element = document.querySelector('#df-bda5a5e5-57e1-474c-853f-d98933917381');\n",
       "          const dataTable =\n",
       "            await google.colab.kernel.invokeFunction('convertToInteractive',\n",
       "                                                     [key], {});\n",
       "          if (!dataTable) return;\n",
       "\n",
       "          const docLinkHtml = 'Like what you see? Visit the ' +\n",
       "            '<a target=\"_blank\" href=https://colab.research.google.com/notebooks/data_table.ipynb>data table notebook</a>'\n",
       "            + ' to learn more about interactive tables.';\n",
       "          element.innerHTML = '';\n",
       "          dataTable['output_type'] = 'display_data';\n",
       "          await google.colab.output.renderOutput(dataTable, element);\n",
       "          const docLink = document.createElement('div');\n",
       "          docLink.innerHTML = docLinkHtml;\n",
       "          element.appendChild(docLink);\n",
       "        }\n",
       "      </script>\n",
       "    </div>\n",
       "  </div>\n",
       "  "
      ],
      "text/plain": [
       "              type         time  ...       trials     duration\n",
       "count  3104.000000  3464.000000  ...  3464.000000  3464.000000\n",
       "mean      9.253222     0.571791  ...    58.599018     0.731236\n",
       "std       3.642100     0.166895  ...    68.524295     0.894489\n",
       "min       0.000000     0.000694  ...     5.000000     0.000000\n",
       "25%       7.000000     0.455556  ...    40.000000     0.000000\n",
       "50%       9.000000     0.584375  ...    40.000000     0.000000\n",
       "75%      13.000000     0.690972  ...    40.000000     1.000000\n",
       "max      14.000000     0.991667  ...   400.000000     3.000000\n",
       "\n",
       "[8 rows x 8 columns]"
      ]
     },
     "execution_count": 34,
     "metadata": {},
     "output_type": "execute_result"
    }
   ],
   "source": [
    "dataset.describe()"
   ]
  },
  {
   "cell_type": "code",
   "execution_count": null,
   "metadata": {
    "colab": {
     "base_uri": "https://localhost:8080/"
    },
    "id": "HxCyexESUlFw",
    "outputId": "f8ea39d7-f2fc-4622-fd74-c1bc0cd1e077"
   },
   "outputs": [
    {
     "data": {
      "text/plain": [
       "type         360\n",
       "time           0\n",
       "dayofweek      0\n",
       "models         0\n",
       "params       273\n",
       "queuelen       0\n",
       "trials         0\n",
       "duration       0\n",
       "dtype: int64"
      ]
     },
     "execution_count": 35,
     "metadata": {},
     "output_type": "execute_result"
    }
   ],
   "source": [
    "# checking if any missing value is there in dataset\n",
    "dataset.isnull().sum()"
   ]
  },
  {
   "cell_type": "code",
   "execution_count": null,
   "metadata": {
    "id": "S-Db7_ddQ_wN"
   },
   "outputs": [],
   "source": [
    "# features from \"type\" to trials are independent variables and the only dependent variable is \"duration\"\n",
    "X = dataset.iloc[:, :-1].values\n",
    "y = dataset.iloc[:, -1].values\n",
    "test = dataset_test.iloc[:, :].values"
   ]
  },
  {
   "cell_type": "code",
   "execution_count": null,
   "metadata": {
    "id": "16MFPQJaQ_9V"
   },
   "outputs": [],
   "source": [
    "# handling missing values of X of train dataset and test dataset\n",
    "from sklearn.impute import SimpleImputer\n",
    "imputer = SimpleImputer(missing_values=np.nan, strategy='mean')\n",
    "imputer.fit(X)\n",
    "X = imputer.transform(X)\n",
    "test = imputer.transform(test)"
   ]
  },
  {
   "cell_type": "code",
   "execution_count": null,
   "metadata": {
    "id": "syc_KLmZZBvO"
   },
   "outputs": [],
   "source": [
    "from sklearn.model_selection import train_test_split\n",
    "X_train, X_test, y_train, y_test = train_test_split(\n",
    "X, y, test_size=0.10, random_state=42)"
   ]
  },
  {
   "cell_type": "code",
   "execution_count": null,
   "metadata": {
    "id": "Zz0sOzcBRAAB"
   },
   "outputs": [],
   "source": [
    "# Normalizing the range of independent variables or features of data by feature scaling\n",
    "from sklearn.preprocessing import StandardScaler\n",
    "scaler = StandardScaler()\n",
    "scaler.fit(X_train)\n",
    "X_trained_scaled = scaler.transform(X_train)\n",
    "X_test_scaled = scaler.transform(X_test)\n",
    "test = scaler.transform(test)"
   ]
  },
  {
   "cell_type": "code",
   "execution_count": null,
   "metadata": {
    "colab": {
     "base_uri": "https://localhost:8080/"
    },
    "id": "GmcklaI7RACp",
    "outputId": "51db9500-c446-4522-e8ee-6c4ff4583a4c"
   },
   "outputs": [
    {
     "data": {
      "text/plain": [
       "0.7694524495677233"
      ]
     },
     "execution_count": 40,
     "metadata": {},
     "output_type": "execute_result"
    }
   ],
   "source": [
    "# Trying out Diffrent Machine Learning Algorithms\n",
    "# XGBOOST\n",
    "from xgboost import XGBClassifier\n",
    "from sklearn.metrics import f1_score\n",
    "classifier = XGBClassifier(eval_matric = 'mlogloss')\n",
    "classifier.fit(X_trained_scaled, y_train)\n",
    "y_pred = classifier.predict(X_test_scaled)\n",
    "f1_score(y_test, y_pred, average = 'micro')"
   ]
  },
  {
   "cell_type": "code",
   "execution_count": null,
   "metadata": {
    "id": "w2vPSUPgRAEx"
   },
   "outputs": [],
   "source": [
    "# Trying out CATBOOST\n",
    "# !pip install catboost\n",
    "from catboost import CatBoostClassifier\n",
    "classifier = CatBoostClassifier(iterations=2000,early_stopping_rounds=300, depth=10, l2_leaf_reg=15, border_count=100 )\n",
    "classifier.fit(X_trained_scaled, y_train)\n",
    "y_pred = classifier.predict(X_test_scaled)\n",
    "f1_score(y_test, y_pred, average = 'micro')"
   ]
  },
  {
   "cell_type": "code",
   "execution_count": null,
   "metadata": {
    "colab": {
     "base_uri": "https://localhost:8080/"
    },
    "id": "EtHwklBLPsIH",
    "outputId": "fb890349-2396-40be-c5ee-058ef21212f1"
   },
   "outputs": [
    {
     "data": {
      "text/plain": [
       "0.8097982708933718"
      ]
     },
     "execution_count": 47,
     "metadata": {},
     "output_type": "execute_result"
    }
   ],
   "source": [
    "# Trying Out Random Forest\n",
    "from sklearn.ensemble import RandomForestClassifier\n",
    "classifier = RandomForestClassifier(n_estimators=50, criterion='entropy', random_state=42)\n",
    "classifier.fit(X_trained_scaled,y_train)\n",
    "y_pred = classifier.predict(X_test_scaled)\n",
    "f1_score(y_test, y_pred, average = 'micro')"
   ]
  },
  {
   "cell_type": "code",
   "execution_count": null,
   "metadata": {
    "colab": {
     "base_uri": "https://localhost:8080/"
    },
    "id": "v50MZuscPsK3",
    "outputId": "329384aa-8c12-4d8b-ad15-f941da9b10a4"
   },
   "outputs": [
    {
     "data": {
      "text/plain": [
       "0.579250720461095"
      ]
     },
     "execution_count": 48,
     "metadata": {},
     "output_type": "execute_result"
    }
   ],
   "source": [
    "# Trying out Logistic Regression\n",
    "from sklearn.linear_model import LogisticRegression\n",
    "classifier = LogisticRegression()\n",
    "classifier.fit(X_trained_scaled, y_train)\n",
    "y_pred = classifier.predict(X_test_scaled)\n",
    "f1_score(y_test, y_pred, average = 'micro')"
   ]
  },
  {
   "cell_type": "code",
   "execution_count": null,
   "metadata": {
    "colab": {
     "base_uri": "https://localhost:8080/"
    },
    "id": "5ou7lFaGPsNK",
    "outputId": "9fa51bb2-898a-47fa-e9eb-362ca806fe60"
   },
   "outputs": [
    {
     "data": {
      "text/plain": [
       "0.6772334293948127"
      ]
     },
     "execution_count": 49,
     "metadata": {},
     "output_type": "execute_result"
    }
   ],
   "source": [
    "# trying out Adaboost classifier\n",
    "from sklearn.ensemble import AdaBoostClassifier\n",
    "classifier = AdaBoostClassifier(n_estimators=100, random_state=0)\n",
    "classifier.fit(X_trained_scaled, y_train)\n",
    "y_pred = classifier.predict(X_test_scaled)\n",
    "f1_score(y_test, y_pred, average = 'micro')"
   ]
  },
  {
   "cell_type": "code",
   "execution_count": null,
   "metadata": {
    "colab": {
     "base_uri": "https://localhost:8080/",
     "height": 1000
    },
    "id": "yu-Ngvwimy6U",
    "outputId": "84246460-3055-4373-fa3b-962e4d8de082"
   },
   "outputs": [
    {
     "name": "stdout",
     "output_type": "stream",
     "text": [
      "Epoch 1/100\n",
      "98/98 [==============================] - 1s 5ms/step - loss: 1.2712 - accuracy: 0.4254 - val_loss: 1.1330 - val_accuracy: 0.5043\n",
      "Epoch 2/100\n",
      "98/98 [==============================] - 0s 2ms/step - loss: 1.0936 - accuracy: 0.5278 - val_loss: 1.0774 - val_accuracy: 0.5216\n",
      "Epoch 3/100\n",
      "98/98 [==============================] - 0s 2ms/step - loss: 1.0604 - accuracy: 0.5322 - val_loss: 1.0542 - val_accuracy: 0.5389\n",
      "Epoch 4/100\n",
      "98/98 [==============================] - 0s 2ms/step - loss: 1.0415 - accuracy: 0.5451 - val_loss: 1.0387 - val_accuracy: 0.5562\n",
      "Epoch 5/100\n",
      "98/98 [==============================] - 0s 2ms/step - loss: 1.0256 - accuracy: 0.5653 - val_loss: 1.0273 - val_accuracy: 0.5620\n",
      "Epoch 6/100\n",
      "98/98 [==============================] - 0s 2ms/step - loss: 1.0098 - accuracy: 0.5816 - val_loss: 1.0162 - val_accuracy: 0.5764\n",
      "Epoch 7/100\n",
      "98/98 [==============================] - 0s 2ms/step - loss: 0.9949 - accuracy: 0.5970 - val_loss: 1.0067 - val_accuracy: 0.5735\n",
      "Epoch 8/100\n",
      "98/98 [==============================] - 0s 2ms/step - loss: 0.9846 - accuracy: 0.5961 - val_loss: 1.0017 - val_accuracy: 0.5793\n",
      "Epoch 9/100\n",
      "98/98 [==============================] - 0s 2ms/step - loss: 0.9765 - accuracy: 0.5954 - val_loss: 0.9955 - val_accuracy: 0.5706\n",
      "Epoch 10/100\n",
      "98/98 [==============================] - 0s 2ms/step - loss: 0.9700 - accuracy: 0.5974 - val_loss: 0.9922 - val_accuracy: 0.5764\n",
      "Epoch 11/100\n",
      "98/98 [==============================] - 0s 2ms/step - loss: 0.9643 - accuracy: 0.5983 - val_loss: 0.9856 - val_accuracy: 0.5793\n",
      "Epoch 12/100\n",
      "98/98 [==============================] - 0s 2ms/step - loss: 0.9601 - accuracy: 0.5999 - val_loss: 0.9813 - val_accuracy: 0.5706\n",
      "Epoch 13/100\n",
      "98/98 [==============================] - 0s 2ms/step - loss: 0.9563 - accuracy: 0.5980 - val_loss: 0.9799 - val_accuracy: 0.5764\n",
      "Epoch 14/100\n",
      "98/98 [==============================] - 0s 2ms/step - loss: 0.9510 - accuracy: 0.6031 - val_loss: 0.9742 - val_accuracy: 0.5735\n",
      "Epoch 15/100\n",
      "98/98 [==============================] - 0s 2ms/step - loss: 0.9457 - accuracy: 0.6022 - val_loss: 0.9743 - val_accuracy: 0.5764\n",
      "Epoch 16/100\n",
      "98/98 [==============================] - 0s 2ms/step - loss: 0.9440 - accuracy: 0.6054 - val_loss: 0.9670 - val_accuracy: 0.5821\n",
      "Epoch 17/100\n",
      "98/98 [==============================] - 0s 2ms/step - loss: 0.9381 - accuracy: 0.6025 - val_loss: 0.9649 - val_accuracy: 0.5879\n",
      "Epoch 18/100\n",
      "98/98 [==============================] - 0s 2ms/step - loss: 0.9333 - accuracy: 0.6057 - val_loss: 0.9629 - val_accuracy: 0.5879\n",
      "Epoch 19/100\n",
      "98/98 [==============================] - 0s 2ms/step - loss: 0.9285 - accuracy: 0.6051 - val_loss: 0.9550 - val_accuracy: 0.5937\n",
      "Epoch 20/100\n",
      "98/98 [==============================] - 0s 2ms/step - loss: 0.9238 - accuracy: 0.6086 - val_loss: 0.9515 - val_accuracy: 0.5850\n",
      "Epoch 21/100\n",
      "98/98 [==============================] - 0s 2ms/step - loss: 0.9192 - accuracy: 0.6047 - val_loss: 0.9459 - val_accuracy: 0.5965\n",
      "Epoch 22/100\n",
      "98/98 [==============================] - 0s 2ms/step - loss: 0.9152 - accuracy: 0.6076 - val_loss: 0.9439 - val_accuracy: 0.5965\n",
      "Epoch 23/100\n",
      "98/98 [==============================] - 0s 2ms/step - loss: 0.9092 - accuracy: 0.6044 - val_loss: 0.9399 - val_accuracy: 0.5908\n",
      "Epoch 24/100\n",
      "98/98 [==============================] - 0s 2ms/step - loss: 0.9036 - accuracy: 0.6083 - val_loss: 0.9333 - val_accuracy: 0.6110\n",
      "Epoch 25/100\n",
      "98/98 [==============================] - 0s 2ms/step - loss: 0.8961 - accuracy: 0.6176 - val_loss: 0.9256 - val_accuracy: 0.6167\n",
      "Epoch 26/100\n",
      "98/98 [==============================] - 0s 2ms/step - loss: 0.8907 - accuracy: 0.6201 - val_loss: 0.9285 - val_accuracy: 0.5937\n",
      "Epoch 27/100\n",
      "98/98 [==============================] - 0s 2ms/step - loss: 0.8868 - accuracy: 0.6201 - val_loss: 0.9173 - val_accuracy: 0.5850\n",
      "Epoch 28/100\n",
      "98/98 [==============================] - 0s 2ms/step - loss: 0.8795 - accuracy: 0.6201 - val_loss: 0.9097 - val_accuracy: 0.6110\n",
      "Epoch 29/100\n",
      "98/98 [==============================] - 0s 2ms/step - loss: 0.8740 - accuracy: 0.6304 - val_loss: 0.9141 - val_accuracy: 0.5850\n",
      "Epoch 30/100\n",
      "98/98 [==============================] - 0s 2ms/step - loss: 0.8678 - accuracy: 0.6314 - val_loss: 0.8967 - val_accuracy: 0.6196\n",
      "Epoch 31/100\n",
      "98/98 [==============================] - 0s 2ms/step - loss: 0.8606 - accuracy: 0.6362 - val_loss: 0.8957 - val_accuracy: 0.6138\n",
      "Epoch 32/100\n",
      "98/98 [==============================] - 0s 2ms/step - loss: 0.8559 - accuracy: 0.6346 - val_loss: 0.8921 - val_accuracy: 0.6196\n",
      "Epoch 33/100\n",
      "98/98 [==============================] - 0s 2ms/step - loss: 0.8533 - accuracy: 0.6394 - val_loss: 0.8813 - val_accuracy: 0.6254\n",
      "Epoch 34/100\n",
      "98/98 [==============================] - 0s 2ms/step - loss: 0.8462 - accuracy: 0.6388 - val_loss: 0.8804 - val_accuracy: 0.6254\n",
      "Epoch 35/100\n",
      "98/98 [==============================] - 0s 2ms/step - loss: 0.8423 - accuracy: 0.6375 - val_loss: 0.8741 - val_accuracy: 0.6254\n",
      "Epoch 36/100\n",
      "98/98 [==============================] - 0s 2ms/step - loss: 0.8376 - accuracy: 0.6372 - val_loss: 0.8694 - val_accuracy: 0.6427\n",
      "Epoch 37/100\n",
      "98/98 [==============================] - 0s 2ms/step - loss: 0.8343 - accuracy: 0.6397 - val_loss: 0.8645 - val_accuracy: 0.6369\n",
      "Epoch 38/100\n",
      "98/98 [==============================] - 0s 2ms/step - loss: 0.8310 - accuracy: 0.6432 - val_loss: 0.8584 - val_accuracy: 0.6398\n",
      "Epoch 39/100\n",
      "98/98 [==============================] - 0s 2ms/step - loss: 0.8276 - accuracy: 0.6413 - val_loss: 0.8551 - val_accuracy: 0.6311\n",
      "Epoch 40/100\n",
      "98/98 [==============================] - 0s 2ms/step - loss: 0.8246 - accuracy: 0.6426 - val_loss: 0.8516 - val_accuracy: 0.6398\n",
      "Epoch 41/100\n",
      "98/98 [==============================] - 0s 2ms/step - loss: 0.8181 - accuracy: 0.6423 - val_loss: 0.8489 - val_accuracy: 0.6427\n",
      "Epoch 42/100\n",
      "98/98 [==============================] - 0s 2ms/step - loss: 0.8194 - accuracy: 0.6468 - val_loss: 0.8506 - val_accuracy: 0.6455\n",
      "Epoch 43/100\n",
      "98/98 [==============================] - 0s 2ms/step - loss: 0.8134 - accuracy: 0.6465 - val_loss: 0.8462 - val_accuracy: 0.6311\n",
      "Epoch 44/100\n",
      "98/98 [==============================] - 0s 2ms/step - loss: 0.8105 - accuracy: 0.6513 - val_loss: 0.8409 - val_accuracy: 0.6340\n",
      "Epoch 45/100\n",
      "98/98 [==============================] - 0s 2ms/step - loss: 0.8065 - accuracy: 0.6519 - val_loss: 0.8343 - val_accuracy: 0.6398\n",
      "Epoch 46/100\n",
      "98/98 [==============================] - 0s 2ms/step - loss: 0.8036 - accuracy: 0.6574 - val_loss: 0.8473 - val_accuracy: 0.6542\n",
      "Epoch 47/100\n",
      "98/98 [==============================] - 0s 2ms/step - loss: 0.8011 - accuracy: 0.6545 - val_loss: 0.8295 - val_accuracy: 0.6455\n",
      "Epoch 48/100\n",
      "98/98 [==============================] - 0s 2ms/step - loss: 0.7989 - accuracy: 0.6529 - val_loss: 0.8267 - val_accuracy: 0.6369\n",
      "Epoch 49/100\n",
      "98/98 [==============================] - 0s 2ms/step - loss: 0.7958 - accuracy: 0.6529 - val_loss: 0.8255 - val_accuracy: 0.6398\n",
      "Epoch 50/100\n",
      "98/98 [==============================] - 0s 2ms/step - loss: 0.7959 - accuracy: 0.6574 - val_loss: 0.8218 - val_accuracy: 0.6398\n",
      "Epoch 51/100\n",
      "98/98 [==============================] - 0s 2ms/step - loss: 0.7936 - accuracy: 0.6586 - val_loss: 0.8226 - val_accuracy: 0.6398\n",
      "Epoch 52/100\n",
      "98/98 [==============================] - 0s 2ms/step - loss: 0.7909 - accuracy: 0.6599 - val_loss: 0.8201 - val_accuracy: 0.6513\n",
      "Epoch 53/100\n",
      "98/98 [==============================] - 0s 2ms/step - loss: 0.7883 - accuracy: 0.6564 - val_loss: 0.8243 - val_accuracy: 0.6513\n",
      "Epoch 54/100\n",
      "98/98 [==============================] - 0s 2ms/step - loss: 0.7869 - accuracy: 0.6574 - val_loss: 0.8254 - val_accuracy: 0.6484\n",
      "Epoch 55/100\n",
      "98/98 [==============================] - 0s 2ms/step - loss: 0.7868 - accuracy: 0.6538 - val_loss: 0.8280 - val_accuracy: 0.6484\n",
      "Epoch 56/100\n",
      "98/98 [==============================] - 0s 2ms/step - loss: 0.7839 - accuracy: 0.6583 - val_loss: 0.8184 - val_accuracy: 0.6340\n",
      "Epoch 57/100\n",
      "98/98 [==============================] - 0s 2ms/step - loss: 0.7819 - accuracy: 0.6590 - val_loss: 0.8209 - val_accuracy: 0.6455\n",
      "Epoch 58/100\n",
      "98/98 [==============================] - 0s 2ms/step - loss: 0.7819 - accuracy: 0.6545 - val_loss: 0.8226 - val_accuracy: 0.6398\n",
      "Epoch 59/100\n",
      "98/98 [==============================] - 0s 2ms/step - loss: 0.7813 - accuracy: 0.6583 - val_loss: 0.8206 - val_accuracy: 0.6398\n",
      "Epoch 60/100\n",
      "98/98 [==============================] - 0s 2ms/step - loss: 0.7782 - accuracy: 0.6580 - val_loss: 0.8207 - val_accuracy: 0.6398\n",
      "Epoch 61/100\n",
      "98/98 [==============================] - 0s 2ms/step - loss: 0.7764 - accuracy: 0.6625 - val_loss: 0.8180 - val_accuracy: 0.6427\n",
      "Epoch 62/100\n",
      "98/98 [==============================] - 0s 2ms/step - loss: 0.7751 - accuracy: 0.6635 - val_loss: 0.8159 - val_accuracy: 0.6340\n",
      "Epoch 63/100\n",
      "98/98 [==============================] - 0s 2ms/step - loss: 0.7723 - accuracy: 0.6574 - val_loss: 0.8154 - val_accuracy: 0.6599\n",
      "Epoch 64/100\n",
      "98/98 [==============================] - 0s 2ms/step - loss: 0.7731 - accuracy: 0.6593 - val_loss: 0.8117 - val_accuracy: 0.6398\n",
      "Epoch 65/100\n",
      "98/98 [==============================] - 0s 2ms/step - loss: 0.7708 - accuracy: 0.6673 - val_loss: 0.8158 - val_accuracy: 0.6427\n",
      "Epoch 66/100\n",
      "98/98 [==============================] - 0s 2ms/step - loss: 0.7683 - accuracy: 0.6660 - val_loss: 0.8084 - val_accuracy: 0.6427\n",
      "Epoch 67/100\n",
      "98/98 [==============================] - 0s 2ms/step - loss: 0.7693 - accuracy: 0.6612 - val_loss: 0.8095 - val_accuracy: 0.6484\n",
      "Epoch 68/100\n",
      "98/98 [==============================] - 0s 2ms/step - loss: 0.7664 - accuracy: 0.6654 - val_loss: 0.8095 - val_accuracy: 0.6427\n",
      "Epoch 69/100\n",
      "98/98 [==============================] - 0s 2ms/step - loss: 0.7661 - accuracy: 0.6705 - val_loss: 0.8097 - val_accuracy: 0.6513\n",
      "Epoch 70/100\n",
      "98/98 [==============================] - 0s 2ms/step - loss: 0.7660 - accuracy: 0.6670 - val_loss: 0.8185 - val_accuracy: 0.6427\n",
      "Epoch 71/100\n",
      "98/98 [==============================] - 0s 2ms/step - loss: 0.7645 - accuracy: 0.6670 - val_loss: 0.8189 - val_accuracy: 0.6686\n",
      "Epoch 72/100\n",
      "98/98 [==============================] - 0s 2ms/step - loss: 0.7639 - accuracy: 0.6689 - val_loss: 0.8082 - val_accuracy: 0.6455\n",
      "Epoch 73/100\n",
      "98/98 [==============================] - 0s 2ms/step - loss: 0.7621 - accuracy: 0.6676 - val_loss: 0.8070 - val_accuracy: 0.6427\n",
      "Epoch 74/100\n",
      "98/98 [==============================] - 0s 2ms/step - loss: 0.7618 - accuracy: 0.6679 - val_loss: 0.8078 - val_accuracy: 0.6455\n",
      "Epoch 75/100\n",
      "98/98 [==============================] - 0s 2ms/step - loss: 0.7587 - accuracy: 0.6670 - val_loss: 0.8053 - val_accuracy: 0.6513\n",
      "Epoch 76/100\n",
      "98/98 [==============================] - 0s 2ms/step - loss: 0.7601 - accuracy: 0.6744 - val_loss: 0.8063 - val_accuracy: 0.6484\n",
      "Epoch 77/100\n",
      "98/98 [==============================] - 0s 2ms/step - loss: 0.7590 - accuracy: 0.6708 - val_loss: 0.8095 - val_accuracy: 0.6513\n",
      "Epoch 78/100\n",
      "98/98 [==============================] - 0s 2ms/step - loss: 0.7569 - accuracy: 0.6708 - val_loss: 0.8059 - val_accuracy: 0.6484\n",
      "Epoch 79/100\n",
      "98/98 [==============================] - 0s 2ms/step - loss: 0.7562 - accuracy: 0.6689 - val_loss: 0.8054 - val_accuracy: 0.6484\n",
      "Epoch 80/100\n",
      "98/98 [==============================] - 0s 2ms/step - loss: 0.7575 - accuracy: 0.6712 - val_loss: 0.8044 - val_accuracy: 0.6427\n",
      "Epoch 81/100\n",
      "98/98 [==============================] - 0s 2ms/step - loss: 0.7526 - accuracy: 0.6724 - val_loss: 0.8141 - val_accuracy: 0.6599\n",
      "Epoch 82/100\n",
      "98/98 [==============================] - 0s 2ms/step - loss: 0.7570 - accuracy: 0.6728 - val_loss: 0.8050 - val_accuracy: 0.6484\n",
      "Epoch 83/100\n",
      "98/98 [==============================] - 0s 2ms/step - loss: 0.7519 - accuracy: 0.6718 - val_loss: 0.8078 - val_accuracy: 0.6542\n",
      "Epoch 84/100\n",
      "98/98 [==============================] - 0s 2ms/step - loss: 0.7549 - accuracy: 0.6724 - val_loss: 0.8122 - val_accuracy: 0.6542\n",
      "Epoch 85/100\n",
      "98/98 [==============================] - 0s 2ms/step - loss: 0.7552 - accuracy: 0.6715 - val_loss: 0.8028 - val_accuracy: 0.6484\n",
      "Epoch 86/100\n",
      "98/98 [==============================] - 0s 2ms/step - loss: 0.7505 - accuracy: 0.6744 - val_loss: 0.8149 - val_accuracy: 0.6599\n",
      "Epoch 87/100\n",
      "98/98 [==============================] - 0s 2ms/step - loss: 0.7509 - accuracy: 0.6785 - val_loss: 0.8097 - val_accuracy: 0.6599\n",
      "Epoch 88/100\n",
      "98/98 [==============================] - 0s 2ms/step - loss: 0.7489 - accuracy: 0.6744 - val_loss: 0.8090 - val_accuracy: 0.6657\n",
      "Epoch 89/100\n",
      "98/98 [==============================] - 0s 2ms/step - loss: 0.7496 - accuracy: 0.6760 - val_loss: 0.8076 - val_accuracy: 0.6628\n",
      "Epoch 90/100\n",
      "98/98 [==============================] - 0s 2ms/step - loss: 0.7479 - accuracy: 0.6769 - val_loss: 0.8063 - val_accuracy: 0.6571\n",
      "Epoch 91/100\n",
      "98/98 [==============================] - 0s 2ms/step - loss: 0.7474 - accuracy: 0.6740 - val_loss: 0.8056 - val_accuracy: 0.6657\n",
      "Epoch 92/100\n",
      "98/98 [==============================] - 0s 2ms/step - loss: 0.7449 - accuracy: 0.6753 - val_loss: 0.8082 - val_accuracy: 0.6599\n",
      "Epoch 93/100\n",
      "98/98 [==============================] - 0s 2ms/step - loss: 0.7437 - accuracy: 0.6705 - val_loss: 0.8061 - val_accuracy: 0.6657\n",
      "Epoch 94/100\n",
      "98/98 [==============================] - 0s 2ms/step - loss: 0.7441 - accuracy: 0.6801 - val_loss: 0.8054 - val_accuracy: 0.6571\n",
      "Epoch 95/100\n",
      "98/98 [==============================] - 0s 2ms/step - loss: 0.7438 - accuracy: 0.6763 - val_loss: 0.8048 - val_accuracy: 0.6599\n",
      "Epoch 96/100\n",
      "98/98 [==============================] - 0s 2ms/step - loss: 0.7428 - accuracy: 0.6779 - val_loss: 0.8128 - val_accuracy: 0.6686\n",
      "Epoch 97/100\n",
      "98/98 [==============================] - 0s 2ms/step - loss: 0.7429 - accuracy: 0.6801 - val_loss: 0.8039 - val_accuracy: 0.6744\n",
      "Epoch 98/100\n",
      "98/98 [==============================] - 0s 2ms/step - loss: 0.7408 - accuracy: 0.6785 - val_loss: 0.8066 - val_accuracy: 0.6628\n",
      "Epoch 99/100\n",
      "98/98 [==============================] - 0s 3ms/step - loss: 0.7423 - accuracy: 0.6753 - val_loss: 0.8008 - val_accuracy: 0.6542\n",
      "Epoch 100/100\n",
      "98/98 [==============================] - 0s 2ms/step - loss: 0.7404 - accuracy: 0.6792 - val_loss: 0.8027 - val_accuracy: 0.6628\n"
     ]
    },
    {
     "data": {
      "text/plain": [
       "<matplotlib.axes._subplots.AxesSubplot at 0x7f8d05c11c10>"
      ]
     },
     "execution_count": 51,
     "metadata": {},
     "output_type": "execute_result"
    },
    {
     "data": {
      "image/png": "[encoded data removed]",
      "text/plain": [
       "<Figure size 432x288 with 1 Axes>"
      ]
     },
     "metadata": {
      "needs_background": "light"
     },
     "output_type": "display_data"
    }
   ],
   "source": [
    "# Trying out Neural Network\n",
    "from tensorflow.keras.models import Sequential\n",
    "from tensorflow.keras.layers import Dense\n",
    "import tensorflow as tf\n",
    "model = Sequential()\n",
    "model.add(Dense(16, activation = 'relu'))\n",
    "model.add(Dense(8, activation = 'relu'))\n",
    "model.add(Dense(8, activation = 'relu'))\n",
    "model.add(Dense(4, activation = 'softmax'))\n",
    "model.compile(loss = tf.keras.losses.SparseCategoricalCrossentropy(),\n",
    "              optimizer = 'adam',\n",
    "              metrics = ['accuracy'])\n",
    "history = model.fit(X_trained_scaled,\n",
    "                    y_train,\n",
    "                    epochs=100,\n",
    "                    validation_data=(X_test_scaled, y_test))\n",
    "\n",
    "pd.DataFrame(history.history).plot()"
   ]
  },
  {
   "cell_type": "code",
   "execution_count": null,
   "metadata": {
    "id": "WJl8cnKanKBc"
   },
   "outputs": [],
   "source": []
  }
 ],
 "metadata": {
  "colab": {
   "name": "Copy of chi_square.ipynb",
   "provenance": []
  },
  "kernelspec": {
   "display_name": "Python 3",
   "language": "python",
   "name": "python3"
  },
  "language_info": {
   "codemirror_mode": {
    "name": "ipython",
    "version": 3
   },
   "file_extension": ".py",
   "mimetype": "text/x-python",
   "name": "python",
   "nbconvert_exporter": "python",
   "pygments_lexer": "ipython3",
   "version": "3.8.8"
  }
 },
 "nbformat": 4,
 "nbformat_minor": 1
}
